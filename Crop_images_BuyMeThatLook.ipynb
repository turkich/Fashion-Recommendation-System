{
  "nbformat": 4,
  "nbformat_minor": 0,
  "metadata": {
    "colab": {
      "name": "Crop_images_BuyMeThatLook.ipynb",
      "provenance": [],
      "collapsed_sections": []
    },
    "kernelspec": {
      "name": "python3",
      "display_name": "Python 3"
    },
    "language_info": {
      "name": "python"
    }
  },
  "cells": [
    {
      "cell_type": "markdown",
      "source": [
        "##Crop images using bounding box (the output of Sahar's task)"
      ],
      "metadata": {
        "id": "Nkl9sY5PZyhn"
      }
    },
    {
      "cell_type": "code",
      "execution_count": null,
      "metadata": {
        "id": "fWLUz7GJMi0H"
      },
      "outputs": [],
      "source": [
        "import cv2\n",
        "from google.colab.patches import cv2_imshow\n",
        "import os\n",
        "import json\n",
        "def crop_save():\n",
        "  path='/content/drive/MyDrive/buy_me_that_look/data/images/'\n",
        "  with open('/content/drive/MyDrive/buy_me_that_look/data/turki_demo.json','r') as f:\n",
        "    data=json.load(f)\n",
        "  for item in data:\n",
        "    name=item['file_name'].split('.')[0]\n",
        "    img=cv2.imread(path+item['file_name'])\n",
        "    for idx in range (len(item['bbox'])):\n",
        "      #print(idx)\n",
        "      try:\n",
        "        cropped_image = img[int(item['bbox'][idx][1]):int(item['bbox'][idx][3]),int(item['bbox'][idx][0]):int(item['bbox'][idx][2])]\n",
        "      except:\n",
        "        print(\"problem with : \",name)\n",
        "\n",
        "      \n",
        "      if item['class_name'][idx]==\"long sleeve outwear\":\n",
        "        os.chdir(\"/content/drive/MyDrive/buy_me_that_look/data/images_cropped/long_sleeve_outwear\")\n",
        "        cv2.imwrite(name+'_'+str(idx)+'.jpg',cropped_image)  # \"259cfc22ed_0.jpg\" \n",
        "      elif item['class_name'][idx]==\"long sleeve top\":\n",
        "        os.chdir(\"/content/drive/MyDrive/buy_me_that_look/data/images_cropped/long_sleeve_top\")\n",
        "        cv2.imwrite(name+'_'+str(idx)+'.jpg',cropped_image)\n",
        "      elif item['class_name'][idx]==\"short sleeve top\":\n",
        "        os.chdir(\"/content/drive/MyDrive/buy_me_that_look/data/images_cropped/short_sleeve_top\")\n",
        "        cv2.imwrite(name+'_'+str(idx)+'.jpg',cropped_image)\n",
        "      elif item['class_name'][idx]==\"shorts\":\n",
        "        os.chdir(\"/content/drive/MyDrive/buy_me_that_look/data/images_cropped/shorts\")\n",
        "        cv2.imwrite(name+'_'+str(idx)+'.jpg',cropped_image)\n",
        "      elif item['class_name'][idx]==\"trousers\":\n",
        "        os.chdir(\"/content/drive/MyDrive/buy_me_that_look/data/images_cropped/trousers\")\n",
        "        cv2.imwrite(name+'_'+str(idx)+'.jpg',cropped_image)\n"
      ]
    },
    {
      "cell_type": "code",
      "source": [
        "crop_save()"
      ],
      "metadata": {
        "colab": {
          "base_uri": "https://localhost:8080/"
        },
        "id": "RxbsklGVb8Rs",
        "outputId": "53627e3e-6136-4f61-f84f-3d2777e7aba5"
      },
      "execution_count": null,
      "outputs": [
        {
          "output_type": "stream",
          "name": "stdout",
          "text": [
            "problem with :  060333\n",
            "problem with :  060333\n",
            "problem with :  060333\n",
            "problem with :  060333\n",
            "problem with :  060060\n",
            "problem with :  060060\n"
          ]
        }
      ]
    }
  ]
}